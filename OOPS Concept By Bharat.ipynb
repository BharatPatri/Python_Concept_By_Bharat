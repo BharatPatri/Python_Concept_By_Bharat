{
 "cells": [
  {
   "cell_type": "code",
   "execution_count": 11,
   "id": "0f1e5941",
   "metadata": {},
   "outputs": [
    {
     "name": "stdout",
     "output_type": "stream",
     "text": [
      "constructor\n",
      "<__main__.bottle object at 0x0000021C118E1820>\n",
      "washing\n"
     ]
    }
   ],
   "source": [
    "#oopS concept\n",
    "class bottle:\n",
    "    #Properties/state\n",
    "    id=1\n",
    "    capacity=1\n",
    "    color=\"red\"\n",
    "    hight=30\n",
    "#constructor\n",
    "    def __init__(self):\n",
    "        print('constructor')\n",
    "\n",
    "    \n",
    "    #behaviour\n",
    "    def washing(self):\n",
    "        print('washing')\n",
    "    def fillbottle():\n",
    "        print('fillbottle')\n",
    "    def reusebottle():\n",
    "        print('reusebottle')\n",
    "#object creation\n",
    "bottle1=bottle()\n",
    "print(bottle1)\n",
    "bottle1.washing()\n",
    "    \n",
    "    "
   ]
  },
  {
   "cell_type": "code",
   "execution_count": 12,
   "id": "60a610df",
   "metadata": {},
   "outputs": [],
   "source": [
    "#constructor\n",
    "def __init__(self):\n",
    "    print('constructor')\n"
   ]
  },
  {
   "cell_type": "code",
   "execution_count": 15,
   "id": "74f2a24c",
   "metadata": {},
   "outputs": [
    {
     "name": "stdout",
     "output_type": "stream",
     "text": [
      "constructor\n",
      "red\n",
      "washing\n"
     ]
    }
   ],
   "source": [
    "#parametrized constructor\n",
    "#oopS concept\n",
    "class bottle:\n",
    "    #Properties/state\n",
    "    id=1\n",
    "    capacity=1\n",
    "    color=\"red\"\n",
    "    hight=30\n",
    "#constructor\n",
    "    def __init__(self,color,capacity):\n",
    "        self.clocr=color\n",
    "        self.capacity=capacity\n",
    "        print('constructor')\n",
    "\n",
    "    \n",
    "    #behaviour\n",
    "    def washing(self):\n",
    "        print('washing')\n",
    "    def fillbottle():\n",
    "        print('fillbottle')\n",
    "    def reusebottle():\n",
    "        print('reusebottle')\n",
    "#object creation\n",
    "bottle1=bottle('blue',1.5)\n",
    "print(bottle1.color)\n",
    "bottle1.washing()\n",
    "    \n",
    "    "
   ]
  },
  {
   "cell_type": "code",
   "execution_count": 6,
   "id": "8db3e136",
   "metadata": {},
   "outputs": [
    {
     "name": "stdout",
     "output_type": "stream",
     "text": [
      "constructor\n",
      "distructor\n",
      "constructor\n",
      "distructor\n",
      "constructor\n",
      "distructor\n",
      "red\n",
      "washing\n",
      "bharat bottle\n"
     ]
    }
   ],
   "source": [
    "class bottle:\n",
    "    #Properties/state\n",
    "    id=1\n",
    "    capacity=1\n",
    "    color=\"red\"\n",
    "    hight=30\n",
    "#constructor\n",
    "    compneyname='bharat bottle'\n",
    "    def __init__(self,color,capacity):\n",
    "        self.clocr=color\n",
    "        self.capacity=capacity\n",
    "        print('constructor')\n",
    "        \n",
    "    def __del__(self):\n",
    "        print(\"distructor\")\n",
    "\n",
    "    \n",
    "    #behaviour\n",
    "    def washing(self):\n",
    "        print('washing')\n",
    "    def fillbottle():\n",
    "        print('fillbottle')\n",
    "    def reusebottle():\n",
    "        print('reusebottle')\n",
    "#object creation\n",
    "bottle1=bottle('blue',1.5)\n",
    "bottle2=bottle('green',2.6)\n",
    "bottle3=bottle('red',1)\n",
    "print(bottle1.color)\n",
    "bottle1.washing()\n",
    "print(bottle.compneyname)\n",
    "    \n",
    "    "
   ]
  },
  {
   "cell_type": "code",
   "execution_count": 30,
   "id": "b5a09c69",
   "metadata": {},
   "outputs": [
    {
     "name": "stdout",
     "output_type": "stream",
     "text": [
      "constructor\n",
      "constructor\n",
      "constructor\n",
      "red\n",
      "bharat bottle\n",
      "bharat bottle\n",
      "constructor\n",
      "child constructor\n"
     ]
    }
   ],
   "source": [
    "#inheritance\n",
    "class bottle:\n",
    "    #Properties/state\n",
    "    id=1\n",
    "    capacity=1\n",
    "    color=\"red\"\n",
    "    hight=30\n",
    "#constructor\n",
    "    compneyname='bharat bottle'\n",
    "    def __init__(self,color,capacity):\n",
    "        self.clocr=color\n",
    "        self.capacity=capacity\n",
    "        print('constructor')\n",
    "        \n",
    "    def __del__(self):\n",
    "        #print(\"distructor\")\n",
    "\n",
    "    \n",
    "    #behaviour\n",
    "        def wash(self):\n",
    "            print(self)\n",
    "            print('washing')\n",
    "    def fillbottle():\n",
    "            print('fillbottle')\n",
    "    def reusebottle():\n",
    "            print('reusebottle')\n",
    "#object creation\n",
    "bottle1=bottle('blue',1.5)\n",
    "bottle2=bottle('green',2.6)\n",
    "bottle3=bottle('red',1)\n",
    "print(bottle1.color)\n",
    "#bottle1.wash()\n",
    "print(bottle.compneyname)\n",
    "\n",
    "class coperBottle(bottle):\n",
    "    def __init__(self,color,capacity):\n",
    "        bottle.__init__(self,color,capacity)\n",
    "        print('child constructor')\n",
    "    def morningWater():\n",
    "        print('morningWater')\n",
    "    \n",
    "print(coperBottle.compneyname)\n",
    "coper1=coperBottle('yellow',2)\n",
    "\n",
    "#coper1.wash()\n",
    "    \n",
    "    "
   ]
  },
  {
   "cell_type": "code",
   "execution_count": 33,
   "id": "09c8af14",
   "metadata": {},
   "outputs": [
    {
     "name": "stdout",
     "output_type": "stream",
     "text": [
      "join\n",
      "run\n",
      "play\n"
     ]
    }
   ],
   "source": [
    "#multiple inheritance\n",
    "class class1:\n",
    "    def join(self):\n",
    "        print('join')\n",
    "class class2:\n",
    "    def run(self):\n",
    "        print('run')\n",
    "        \n",
    "        \n",
    "class class3(class1,class2):\n",
    "    def play(self):\n",
    "        print('play')\n",
    "cl3=class3()\n",
    "cl3.join()\n",
    "cl3.run()\n",
    "cl3.play()\n",
    "\n"
   ]
  },
  {
   "cell_type": "code",
   "execution_count": 34,
   "id": "a3ddf6ed",
   "metadata": {},
   "outputs": [
    {
     "name": "stdout",
     "output_type": "stream",
     "text": [
      "join\n",
      "run\n",
      "play\n"
     ]
    }
   ],
   "source": [
    "#multiple inheritance\n",
    "class class1:\n",
    "    def join(self):\n",
    "        print('join')\n",
    "class class2(class1):\n",
    "    def run(self):\n",
    "        print('run')\n",
    "        \n",
    "        \n",
    "class class3(class2):\n",
    "    def play(self):\n",
    "        print('play')\n",
    "cl3=class3()\n",
    "cl2=class2()\n",
    "cl2.join()\n",
    "cl3.run()\n",
    "cl3.play()\n",
    "\n"
   ]
  },
  {
   "cell_type": "code",
   "execution_count": null,
   "id": "6faf0c35",
   "metadata": {},
   "outputs": [],
   "source": []
  },
  {
   "cell_type": "code",
   "execution_count": 3,
   "id": "9a8cec66",
   "metadata": {},
   "outputs": [
    {
     "ename": "ModuleNotFoundError",
     "evalue": "No module named 'sketchpy'",
     "output_type": "error",
     "traceback": [
      "\u001b[1;31m---------------------------------------------------------------------------\u001b[0m",
      "\u001b[1;31mModuleNotFoundError\u001b[0m                       Traceback (most recent call last)",
      "Input \u001b[1;32mIn [3]\u001b[0m, in \u001b[0;36m<cell line: 1>\u001b[1;34m()\u001b[0m\n\u001b[1;32m----> 1\u001b[0m \u001b[38;5;28;01mfrom\u001b[39;00m \u001b[38;5;21;01msketchpy\u001b[39;00m \u001b[38;5;28;01mimport\u001b[39;00m library \u001b[38;5;28;01mas\u001b[39;00m lib\n\u001b[0;32m      2\u001b[0m obj\u001b[38;5;241m=\u001b[39mlib\u001b[38;5;241m.\u001b[39mrdj()\n\u001b[0;32m      3\u001b[0m obj\u001b[38;5;241m.\u001b[39mdraw()\n",
      "\u001b[1;31mModuleNotFoundError\u001b[0m: No module named 'sketchpy'"
     ]
    }
   ],
   "source": [
    "from sketchpy import library as lib\n",
    "obj=lib.rdj()\n",
    "obj.draw()"
   ]
  },
  {
   "cell_type": "code",
   "execution_count": null,
   "id": "dcaafe58",
   "metadata": {},
   "outputs": [],
   "source": []
  }
 ],
 "metadata": {
  "kernelspec": {
   "display_name": "Python 3 (ipykernel)",
   "language": "python",
   "name": "python3"
  },
  "language_info": {
   "codemirror_mode": {
    "name": "ipython",
    "version": 3
   },
   "file_extension": ".py",
   "mimetype": "text/x-python",
   "name": "python",
   "nbconvert_exporter": "python",
   "pygments_lexer": "ipython3",
   "version": "3.9.12"
  }
 },
 "nbformat": 4,
 "nbformat_minor": 5
}

{
 "cells": [
  {
   "cell_type": "code",
   "execution_count": 10,
   "id": "e2bdd27e",
   "metadata": {},
   "outputs": [
    {
     "name": "stdout",
     "output_type": "stream",
     "text": [
      "enter your amount100\n",
      "-4900 thanks for using\n"
     ]
    }
   ],
   "source": [
    "cash=input('enter your amount')\n",
    "enterAmount=int(cash)\n",
    "totalCash=5000\n",
    "remainingAmount=enterAmount-totalCash\n",
    "print(remainingAmount,end=\" \")\n",
    "print(\"thanks for using\")"
   ]
  },
  {
   "cell_type": "code",
   "execution_count": null,
   "id": "bbe80786",
   "metadata": {},
   "outputs": [],
   "source": [
    "#splitmethod\n",
    "cash=input('enter your amount and pin').split('=')\n",
    "enterAmount=int(cash)\n",
    "totalCash=5000\n",
    "remainingAmount=enterAmount-totalCash\n",
    "print(remainingAmount,end=\" \")\n",
    "print(\"thanks for using\")"
   ]
  },
  {
   "cell_type": "code",
   "execution_count": 3,
   "id": "d503c4fb",
   "metadata": {},
   "outputs": [
    {
     "name": "stdout",
     "output_type": "stream",
     "text": [
      "enter a sentencebharat kumar patri\n",
      "bharat1\n",
      "irtap ramuk tarahb\n",
      "r\n",
      "\n"
     ]
    }
   ],
   "source": [
    "#pracktice string\n",
    "bharat=input(\"enter a sentence\")\n",
    "bharat1=str(bharat)\n",
    "print(\"bharat1\")\n",
    "print(bharat1[::-1])\n",
    "print(bharat1[3:5:2])\n",
    "print(bharat1[2:5:-6])"
   ]
  },
  {
   "cell_type": "code",
   "execution_count": null,
   "id": "9beb325c",
   "metadata": {},
   "outputs": [],
   "source": []
  },
  {
   "cell_type": "code",
   "execution_count": 1,
   "id": "75250165",
   "metadata": {},
   "outputs": [
    {
     "name": "stdout",
     "output_type": "stream",
     "text": [
      "<class 'tuple'>\n"
     ]
    }
   ],
   "source": [
    "#tuple\n",
    "#parenthisis ()\n",
    "marks=(90.50,70.35,66)\n",
    "print(type(marks))"
   ]
  },
  {
   "cell_type": "code",
   "execution_count": 4,
   "id": "876bfa7b",
   "metadata": {},
   "outputs": [
    {
     "name": "stdout",
     "output_type": "stream",
     "text": [
      "<class 'bool'>\n",
      "<class 'bool'>\n",
      "True\n"
     ]
    }
   ],
   "source": [
    "#Boolean method we onlly use True or False  bool()\n",
    "subscribed= True\n",
    "print(type(subscribed))\n",
    "a=5\n",
    "b=5\n",
    "print(type(a==b))\n",
    "#if we have positive or nagative number then it become it true\n",
    "#if we have zero va;lues then it will consideras false\n",
    "print(bool(a))"
   ]
  },
  {
   "cell_type": "code",
   "execution_count": 8,
   "id": "dee601a2",
   "metadata": {},
   "outputs": [
    {
     "name": "stdout",
     "output_type": "stream",
     "text": [
      "{'ram', 'surya', 'alu arjun', 'prabhas', 'bharat', 'vijya talapathi'}\n"
     ]
    }
   ],
   "source": [
    "#     SET\n",
    "heros={\"prabhas\",\"surya\",\"vijya talapathi\",\"ram\",\"alu arjun\",\"prabhas\"}\n",
    "#it will not consider duplecate items \n",
    "#create empty set\n",
    "emptySet=set()\n",
    "\n",
    "#set()it is aempty function\n",
    "#add new hero\n",
    "heros.add(\"bharat\")\n",
    "print(heros)"
   ]
  },
  {
   "cell_type": "code",
   "execution_count": 8,
   "id": "8fc0b15c",
   "metadata": {},
   "outputs": [
    {
     "name": "stdout",
     "output_type": "stream",
     "text": [
      "<class 'dict'>\n",
      "{'college': 'GIET', 'info': {'name': 'bharat', 'address': 'c/o harinath', 'phone no': '8917260896'}}\n",
      "GIET\n",
      "GIET\n",
      "{'college': 'KIIT', 'info': {'name': 'bharat', 'address': 'c/o harinath', 'phone no': '8917260896'}, 'join': 'yes'}\n"
     ]
    }
   ],
   "source": [
    "#Dictionary\n",
    "#unordered of collection of items\n",
    "#mutable\n",
    "#it based on ke:value\n",
    " #   value can be duplicate but key can't be duplicate\n",
    "#    \n",
    "#    we can also use dict() key word\n",
    "myBiodata={\"name\":\"bharat\",\"address\":\"c/o harinath\",\"phone no\":\"8917260896\"}\n",
    "print(type(myBiodata))\n",
    "information={\"college\":\"GIET\",\"info\":myBiodata}\n",
    "print(information)\n",
    "#Accessing method\n",
    "print(information[\"college\"])\n",
    "print(information.get(\"college\"))\n",
    "#how to update the values\n",
    "information[\"college\"]=\"KIIT\"\n",
    "#add a new key and value on current dictionary\n",
    "information[\"join\"]=\"yes\"\n",
    "print(information)\n"
   ]
  },
  {
   "cell_type": "code",
   "execution_count": 4,
   "id": "a3849273",
   "metadata": {},
   "outputs": [
    {
     "name": "stdout",
     "output_type": "stream",
     "text": [
      "lost the match\n"
     ]
    }
   ],
   "source": [
    "#control Flow  Using if else:\n",
    "#initilization is madtory\n",
    "lastBall=6\n",
    "if lastBall==2:\n",
    "    print(\"won the match\")\n",
    "else:\n",
    "    print(\"lost the match\")\n"
   ]
  },
  {
   "cell_type": "code",
   "execution_count": 6,
   "id": "cf2a5057",
   "metadata": {},
   "outputs": [
    {
     "name": "stdout",
     "output_type": "stream",
     "text": [
      "enter a number8\n",
      "congrates both 2 and 4 are devided\n"
     ]
    }
   ],
   "source": [
    "#nested if \n",
    "#if inside another if then it is called nested if\n",
    "number=int(input(\"enter a number\"))\n",
    "if(number%2==0): \n",
    "    if(number%4==0):\n",
    "      print(\"congrates both 2 and 4 are devided\")\n",
    "    else:\n",
    "      print(\"sorry\")\n",
    "    \n",
    "else:\n",
    "      print(\"sorry\")"
   ]
  },
  {
   "cell_type": "code",
   "execution_count": 5,
   "id": "14b00fcc",
   "metadata": {},
   "outputs": [
    {
     "name": "stdout",
     "output_type": "stream",
     "text": [
      "enter a number5\n",
      "the number is odd\n"
     ]
    }
   ],
   "source": [
    "#write aprogram to check wether the number is even or odd\n",
    "number=int(input(\"enter a number\"))\n",
    "if(number%2==0): #(% modular) will provide remainder \n",
    "    print(\"the number is even\")\n",
    "else:\n",
    "    print(\"the number is odd\")\n",
    "    "
   ]
  },
  {
   "cell_type": "code",
   "execution_count": 52,
   "id": "e9b762df",
   "metadata": {},
   "outputs": [
    {
     "name": "stdout",
     "output_type": "stream",
     "text": [
      "enter your rank3000\n",
      "you got GIET \n"
     ]
    }
   ],
   "source": [
    "#if-elif\n",
    "\n",
    "rank=int(input(\"enter your rank\"))\n",
    "if rank<=1000:\n",
    "    \n",
    "        print(\"you got college KIIT\")\n",
    "elif rank>1000 and rank<=10000: #it mens rank grter then 1000 and less then 10000 then it will choose college 2\n",
    "        print(\"you got GIET \")\n",
    "elif rank>10000 and rank<=40000:\n",
    "        print(\"you got NIT\")\n",
    "else:\n",
    "        print(\"your are not eligible \")\n",
    "    "
   ]
  },
  {
   "cell_type": "code",
   "execution_count": 51,
   "id": "9e6204a9",
   "metadata": {},
   "outputs": [
    {
     "data": {
      "text/plain": [
       "8"
      ]
     },
     "execution_count": 51,
     "metadata": {},
     "output_type": "execute_result"
    }
   ],
   "source": [
    "8"
   ]
  },
  {
   "cell_type": "code",
   "execution_count": 1,
   "id": "62f38fb1",
   "metadata": {},
   "outputs": [
    {
     "name": "stdout",
     "output_type": "stream",
     "text": [
      "even\n"
     ]
    }
   ],
   "source": [
    "#Shortand ifelse method\n",
    "#first we have to write the true statment and the we write condition then we write the false conditio\n",
    "x=10\n",
    "print('even') if (x%2==0) else print('odd')"
   ]
  },
  {
   "cell_type": "code",
   "execution_count": 2,
   "id": "3d27213e",
   "metadata": {},
   "outputs": [
    {
     "name": "stdout",
     "output_type": "stream",
     "text": [
      "10\n",
      "20\n",
      "30\n",
      "90\n",
      "60\n",
      "70\n",
      "50\n",
      "100\n",
      "150\n",
      "450\n",
      "300\n",
      "350\n"
     ]
    }
   ],
   "source": [
    "#for loop\n",
    "numberList=[10,20,30,90,60,70]\n",
    "for bharat in numberList:\n",
    "    print(bharat)\n",
    "#if we want to multiply all the number by using a paticular number\n",
    "numberList=[10,20,30,90,60,70]\n",
    "for bharat in numberList:\n",
    "    print(bharat*5)"
   ]
  },
  {
   "cell_type": "code",
   "execution_count": 1,
   "id": "e14fffbf",
   "metadata": {},
   "outputs": [
    {
     "name": "stdout",
     "output_type": "stream",
     "text": [
      "s\n",
      "u\n",
      "r\n",
      "e\n",
      "s\n",
      "h\n"
     ]
    }
   ],
   "source": [
    "#print character using for loop to print in sequence\n",
    "name='suresh'\n",
    "for bharat in name:\n",
    "    print(bharat)"
   ]
  },
  {
   "cell_type": "code",
   "execution_count": 2,
   "id": "0dc39032",
   "metadata": {},
   "outputs": [
    {
     "name": "stdout",
     "output_type": "stream",
     "text": [
      "0\n",
      "1\n",
      "2\n",
      "3\n",
      "4\n",
      "5\n",
      "6\n",
      "7\n",
      "8\n",
      "9\n",
      "10\n"
     ]
    }
   ],
   "source": [
    "#print 0 to 10 usiing for loop\n",
    "for Bharat in range (11):\n",
    "    print(Bharat)"
   ]
  },
  {
   "cell_type": "code",
   "execution_count": 3,
   "id": "d1759cf9",
   "metadata": {},
   "outputs": [
    {
     "name": "stdout",
     "output_type": "stream",
     "text": [
      "1\n",
      "2\n",
      "3\n",
      "4\n",
      "5\n",
      "6\n",
      "7\n",
      "8\n",
      "9\n",
      "10\n",
      "11\n",
      "12\n",
      "13\n",
      "14\n",
      "15\n",
      "16\n",
      "17\n",
      "18\n",
      "19\n",
      "20\n",
      "21\n",
      "22\n",
      "23\n",
      "24\n",
      "25\n",
      "26\n",
      "27\n",
      "28\n",
      "29\n",
      "30\n",
      "31\n",
      "32\n",
      "33\n",
      "34\n",
      "35\n",
      "36\n",
      "37\n",
      "38\n",
      "39\n",
      "40\n",
      "41\n",
      "42\n",
      "43\n",
      "44\n",
      "45\n",
      "46\n",
      "47\n",
      "48\n",
      "49\n",
      "50\n",
      "51\n",
      "52\n",
      "53\n",
      "54\n",
      "55\n",
      "56\n",
      "57\n",
      "58\n",
      "59\n",
      "60\n",
      "61\n",
      "62\n",
      "63\n",
      "64\n",
      "65\n",
      "66\n",
      "67\n",
      "68\n",
      "69\n",
      "70\n",
      "71\n",
      "72\n",
      "73\n",
      "74\n",
      "75\n",
      "76\n",
      "77\n",
      "78\n",
      "79\n",
      "80\n",
      "81\n",
      "82\n",
      "83\n",
      "84\n",
      "85\n",
      "86\n",
      "87\n",
      "88\n",
      "89\n",
      "90\n",
      "91\n",
      "92\n",
      "93\n",
      "94\n",
      "95\n",
      "96\n",
      "97\n",
      "98\n",
      "99\n",
      "100\n"
     ]
    }
   ],
   "source": [
    "#print 1 to 100 using for loop\n",
    "for Bharat in range(1,101):\n",
    "    print(Bharat)"
   ]
  },
  {
   "cell_type": "code",
   "execution_count": 4,
   "id": "a2eebd21",
   "metadata": {},
   "outputs": [
    {
     "name": "stdout",
     "output_type": "stream",
     "text": [
      "100\n",
      "99\n",
      "98\n",
      "97\n",
      "96\n",
      "95\n",
      "94\n",
      "93\n",
      "92\n",
      "91\n",
      "90\n",
      "89\n",
      "88\n",
      "87\n",
      "86\n",
      "85\n",
      "84\n",
      "83\n",
      "82\n",
      "81\n",
      "80\n",
      "79\n",
      "78\n",
      "77\n",
      "76\n",
      "75\n",
      "74\n",
      "73\n",
      "72\n",
      "71\n",
      "70\n",
      "69\n",
      "68\n",
      "67\n",
      "66\n",
      "65\n",
      "64\n",
      "63\n",
      "62\n",
      "61\n",
      "60\n",
      "59\n",
      "58\n",
      "57\n",
      "56\n",
      "55\n",
      "54\n",
      "53\n",
      "52\n",
      "51\n",
      "50\n",
      "49\n",
      "48\n",
      "47\n",
      "46\n",
      "45\n",
      "44\n",
      "43\n",
      "42\n",
      "41\n",
      "40\n",
      "39\n",
      "38\n",
      "37\n",
      "36\n",
      "35\n",
      "34\n",
      "33\n",
      "32\n",
      "31\n",
      "30\n",
      "29\n",
      "28\n",
      "27\n",
      "26\n",
      "25\n",
      "24\n",
      "23\n",
      "22\n",
      "21\n",
      "20\n",
      "19\n",
      "18\n",
      "17\n",
      "16\n",
      "15\n",
      "14\n",
      "13\n",
      "12\n",
      "11\n",
      "10\n",
      "9\n",
      "8\n",
      "7\n",
      "6\n",
      "5\n",
      "4\n",
      "3\n",
      "2\n",
      "1\n"
     ]
    }
   ],
   "source": [
    "#print 100 to 1 using for loop if we decrement so we have to use -1 step option\n",
    "for Bharat in range(100,0,-1):\n",
    "    print(Bharat)"
   ]
  },
  {
   "cell_type": "code",
   "execution_count": 5,
   "id": "18b4c8a5",
   "metadata": {},
   "outputs": [
    {
     "name": "stdout",
     "output_type": "stream",
     "text": [
      "enter your nameBharat\n",
      "at\n",
      "atat\n",
      "atatat\n",
      "atatatat\n",
      "atatatatat\n",
      "atatatatatat\n",
      "atatatatatatat\n",
      "atatatatatatatat\n",
      "atatatatatatatatat\n",
      "atatatatatatatatatat\n"
     ]
    }
   ],
   "source": [
    "#write a program to print last 2 character in your nameand repeat it 1 to 10\n",
    "name=input(\"enter your name\")\n",
    "lastTwo=name[-2:]\n",
    "for Bharat in range (1,11):\n",
    "    print(lastTwo*Bharat)"
   ]
  },
  {
   "cell_type": "code",
   "execution_count": 7,
   "id": "2cd3c8ed",
   "metadata": {},
   "outputs": [
    {
     "name": "stdout",
     "output_type": "stream",
     "text": [
      "enter your nameBharat\n",
      "at\n",
      "atat\n",
      "atatat\n",
      "atatatat\n",
      "atatatatat\n"
     ]
    }
   ],
   "source": [
    "#write a program to print last 2 character in your nameand repeat it 1 to 6\n",
    "name=input(\"enter your name\")\n",
    "lastTwo=name[-2:]\n",
    "for Bharat in range (1,6):\n",
    "    print(lastTwo*Bharat)"
   ]
  },
  {
   "cell_type": "code",
   "execution_count": 8,
   "id": "6a8ed3cc",
   "metadata": {},
   "outputs": [
    {
     "name": "stdout",
     "output_type": "stream",
     "text": [
      "enter your nameBharat\n",
      "atatatatatat\n",
      "atatatatat\n",
      "atatatat\n",
      "atatat\n",
      "atat\n",
      "at\n"
     ]
    }
   ],
   "source": [
    "#print in reverse order\n",
    "name=input(\"enter your name\")\n",
    "lastTwo=name[-2:]\n",
    "for Bharat in range (6,0,-1):\n",
    "    print(lastTwo*Bharat)"
   ]
  },
  {
   "cell_type": "code",
   "execution_count": 4,
   "id": "1f7b76a7",
   "metadata": {},
   "outputs": [
    {
     "name": "stdout",
     "output_type": "stream",
     "text": [
      "Total sum 40\n",
      "Total sum 100\n",
      "Total sum 150\n",
      "Total sum 183\n",
      "Total sum 225\n",
      "Total sum 298\n"
     ]
    }
   ],
   "source": [
    "markes=[40,60,50,33,42,73]\n",
    "sum=0\n",
    "for mark in markes:\n",
    "    sum=sum+mark\n",
    "    print('Total sum',sum)"
   ]
  },
  {
   "cell_type": "code",
   "execution_count": 5,
   "id": "78c3be91",
   "metadata": {},
   "outputs": [
    {
     "name": "stdout",
     "output_type": "stream",
     "text": [
      "1\n",
      "2\n",
      "3\n",
      "4\n",
      "5\n",
      "6\n",
      "7\n",
      "8\n",
      "9\n"
     ]
    }
   ],
   "source": [
    "bharat=1\n",
    "while bharat<10:\n",
    "    print(bharat)\n",
    "    bharat=bharat+1"
   ]
  },
  {
   "cell_type": "code",
   "execution_count": 7,
   "id": "49f7c923",
   "metadata": {},
   "outputs": [
    {
     "name": "stdout",
     "output_type": "stream",
     "text": [
      "Total Flips 1 [30] 30\n",
      "Total Flips 2 [30, 5] 35\n",
      "Total Flips 3 [30, 5, 20] 55\n",
      "Total Flips 4 [30, 5, 20, 30] 85\n",
      "Total Flips 5 [30, 5, 20, 30, 19] 104\n",
      "Total Flips 6 [30, 5, 20, 30, 19, 2] 106\n",
      "Total Flips 7 [30, 5, 20, 30, 19, 2, 24] 130\n",
      "Total Flips 8 [30, 5, 20, 30, 19, 2, 24, 2] 132\n",
      "Total Flips 9 [30, 5, 20, 30, 19, 2, 24, 2, 20] 152\n",
      "Total Flips 10 [30, 5, 20, 30, 19, 2, 24, 2, 20, 28] 180\n",
      "Total Flips 11 [30, 5, 20, 30, 19, 2, 24, 2, 20, 28, 27] 207\n",
      "Total Flips 12 [30, 5, 20, 30, 19, 2, 24, 2, 20, 28, 27, 25] 232\n",
      "Total Flips 13 [30, 5, 20, 30, 19, 2, 24, 2, 20, 28, 27, 25, 21] 253\n",
      "Total Flips 14 [30, 5, 20, 30, 19, 2, 24, 2, 20, 28, 27, 25, 21, 25] 278\n",
      "Total Flips 15 [30, 5, 20, 30, 19, 2, 24, 2, 20, 28, 27, 25, 21, 25, 6] 284\n",
      "Total Flips 16 [30, 5, 20, 30, 19, 2, 24, 2, 20, 28, 27, 25, 21, 25, 6, 3] 287\n",
      "Total Flips 17 [30, 5, 20, 30, 19, 2, 24, 2, 20, 28, 27, 25, 21, 25, 6, 3, 24] 311\n",
      "Total Flips 18 [30, 5, 20, 30, 19, 2, 24, 2, 20, 28, 27, 25, 21, 25, 6, 3, 24, 11] 322\n",
      "Total Flips 19 [30, 5, 20, 30, 19, 2, 24, 2, 20, 28, 27, 25, 21, 25, 6, 3, 24, 11, 15] 337\n",
      "Total Flips 20 [30, 5, 20, 30, 19, 2, 24, 2, 20, 28, 27, 25, 21, 25, 6, 3, 24, 11, 15, 17] 354\n",
      "Total Flips 21 [30, 5, 20, 30, 19, 2, 24, 2, 20, 28, 27, 25, 21, 25, 6, 3, 24, 11, 15, 17, 16] 370\n",
      "Total Flips 22 [30, 5, 20, 30, 19, 2, 24, 2, 20, 28, 27, 25, 21, 25, 6, 3, 24, 11, 15, 17, 16, 6] 376\n",
      "Total Flips 23 [30, 5, 20, 30, 19, 2, 24, 2, 20, 28, 27, 25, 21, 25, 6, 3, 24, 11, 15, 17, 16, 6, 21] 397\n",
      "Total Flips 24 [30, 5, 20, 30, 19, 2, 24, 2, 20, 28, 27, 25, 21, 25, 6, 3, 24, 11, 15, 17, 16, 6, 21, 1] 398\n",
      "Total Flips 25 [30, 5, 20, 30, 19, 2, 24, 2, 20, 28, 27, 25, 21, 25, 6, 3, 24, 11, 15, 17, 16, 6, 21, 1, 8] 406\n",
      "Total Flips 26 [30, 5, 20, 30, 19, 2, 24, 2, 20, 28, 27, 25, 21, 25, 6, 3, 24, 11, 15, 17, 16, 6, 21, 1, 8, 6] 412\n",
      "Total Flips 27 [30, 5, 20, 30, 19, 2, 24, 2, 20, 28, 27, 25, 21, 25, 6, 3, 24, 11, 15, 17, 16, 6, 21, 1, 8, 6, 2] 414\n",
      "Total Flips 28 [30, 5, 20, 30, 19, 2, 24, 2, 20, 28, 27, 25, 21, 25, 6, 3, 24, 11, 15, 17, 16, 6, 21, 1, 8, 6, 2, 28] 442\n",
      "Total Flips 29 [30, 5, 20, 30, 19, 2, 24, 2, 20, 28, 27, 25, 21, 25, 6, 3, 24, 11, 15, 17, 16, 6, 21, 1, 8, 6, 2, 28, 24] 466\n",
      "Total Flips 30 [30, 5, 20, 30, 19, 2, 24, 2, 20, 28, 27, 25, 21, 25, 6, 3, 24, 11, 15, 17, 16, 6, 21, 1, 8, 6, 2, 28, 24, 12] 478\n",
      "Total Flips 31 [30, 5, 20, 30, 19, 2, 24, 2, 20, 28, 27, 25, 21, 25, 6, 3, 24, 11, 15, 17, 16, 6, 21, 1, 8, 6, 2, 28, 24, 12, 10] 488\n",
      "Total Flips 32 [30, 5, 20, 30, 19, 2, 24, 2, 20, 28, 27, 25, 21, 25, 6, 3, 24, 11, 15, 17, 16, 6, 21, 1, 8, 6, 2, 28, 24, 12, 10, 18] 506\n"
     ]
    }
   ],
   "source": [
    "import random\n",
    "score = 0\n",
    "scoreInfo= []\n",
    "while score<500:\n",
    "    scoreValue=(random.randint(1,30)) #randome is a library\n",
    "    score=score+scoreValue\n",
    "    scoreInfo.append(scoreValue)#i have to put the score value int score info\n",
    "    print('Total Flips',len(scoreInfo),scoreInfo,score)"
   ]
  },
  {
   "cell_type": "code",
   "execution_count": 3,
   "id": "dea7f695",
   "metadata": {},
   "outputs": [
    {
     "name": "stdout",
     "output_type": "stream",
     "text": [
      "18 is even\n",
      "19 is odd\n",
      "22 is even\n"
     ]
    }
   ],
   "source": [
    "#Function program it use when we have a repeted logic on that time we use function\n",
    "#function allways represent in def\n",
    "\n",
    "def evenOrOdd(number):\n",
    "    if(number%2==0):\n",
    "        print(\"{} is even\".format(number))\n",
    "    else:\n",
    "        print(\"{} is odd\".format(number))\n",
    "evenOrOdd(18)\n",
    "evenOrOdd(19)\n",
    "evenOrOdd(22)\n",
    "    \n",
    "            \n",
    "            \n",
    "    \n",
    "\n",
    "\n",
    "\n",
    "\n",
    "\n",
    "\n"
   ]
  },
  {
   "cell_type": "code",
   "execution_count": 4,
   "id": "51d8b26d",
   "metadata": {},
   "outputs": [
    {
     "name": "stdout",
     "output_type": "stream",
     "text": [
      "18 is even\n",
      "19 is odd\n",
      "22 is even\n",
      "It is a even or odd function\n"
     ]
    }
   ],
   "source": [
    "#Docstring it is used to when we have lots of function in a project on that time we don't know about the work of the function so we\n",
    "#we can write\n",
    "def evenOrOdd(number):\n",
    "    \"It is a even or odd function\"\n",
    "    if(number%2==0):\n",
    "        print(\"{} is even\".format(number))\n",
    "    else:\n",
    "        print(\"{} is odd\".format(number))\n",
    "evenOrOdd(18)\n",
    "evenOrOdd(19)\n",
    "evenOrOdd(22)\n",
    "print(evenOrOdd.__doc__)"
   ]
  },
  {
   "cell_type": "code",
   "execution_count": 5,
   "id": "d41c4bb9",
   "metadata": {},
   "outputs": [
    {
     "name": "stdout",
     "output_type": "stream",
     "text": [
      "print(value, ..., sep=' ', end='\\n', file=sys.stdout, flush=False)\n",
      "\n",
      "Prints the values to a stream, or to sys.stdout by default.\n",
      "Optional keyword arguments:\n",
      "file:  a file-like object (stream); defaults to the current sys.stdout.\n",
      "sep:   string inserted between values, default a space.\n",
      "end:   string appended after the last value, default a newline.\n",
      "flush: whether to forcibly flush the stream.\n",
      "type(object) -> the object's type\n",
      "type(name, bases, dict, **kwds) -> a new type\n"
     ]
    }
   ],
   "source": [
    "print(print.__doc__)\n",
    "print(type.__doc__)"
   ]
  },
  {
   "cell_type": "code",
   "execution_count": 6,
   "id": "66c1463c",
   "metadata": {},
   "outputs": [
    {
     "name": "stdout",
     "output_type": "stream",
     "text": [
      "343\n"
     ]
    }
   ],
   "source": [
    "# return method\n",
    "def multPle(number):\n",
    "    cube=number*number*number\n",
    "    return cube\n",
    "result= multPle(7)\n",
    "print(result)"
   ]
  },
  {
   "cell_type": "code",
   "execution_count": 10,
   "id": "af53b381",
   "metadata": {},
   "outputs": [
    {
     "name": "stdout",
     "output_type": "stream",
     "text": [
      "[50, 60, 50, 70, 75, 52]\n"
     ]
    }
   ],
   "source": [
    "#reference method\n",
    "def calculate(myMarks):\n",
    "    myMarks[2]=50\n",
    "marks=[50,60,90,70,75,52]\n",
    "calculate(marks)\n",
    "print(marks)"
   ]
  },
  {
   "cell_type": "code",
   "execution_count": 11,
   "id": "f79da5c2",
   "metadata": {},
   "outputs": [
    {
     "name": "stdout",
     "output_type": "stream",
     "text": [
      "[50, 60, 90, 70, 75, 52]\n"
     ]
    }
   ],
   "source": [
    "def calculate(myMarks):\n",
    "    myMarks=[50,696,45]\n",
    "marks=[50,60,90,70,75,52]\n",
    "calculate(marks)\n",
    "print(marks)"
   ]
  },
  {
   "cell_type": "code",
   "execution_count": 12,
   "id": "26c329ef",
   "metadata": {},
   "outputs": [
    {
     "name": "stdout",
     "output_type": "stream",
     "text": [
      "20\n",
      "10\n"
     ]
    }
   ],
   "source": [
    "def luckeyNumber(number):\n",
    "    number=20\n",
    "    return number\n",
    "number=10\n",
    "print(luckeyNumber(number))\n",
    "print(number)\n",
    "\n"
   ]
  },
  {
   "cell_type": "code",
   "execution_count": 13,
   "id": "94c6313a",
   "metadata": {},
   "outputs": [
    {
     "name": "stdout",
     "output_type": "stream",
     "text": [
      "30\n",
      "10\n"
     ]
    }
   ],
   "source": [
    "def luckeyNumber(number):\n",
    "    number=20\n",
    "    number=30\n",
    "    return number\n",
    "number=10\n",
    "print(luckeyNumber(number))\n",
    "print(number)\n",
    "\n"
   ]
  },
  {
   "cell_type": "code",
   "execution_count": 14,
   "id": "6f290c25",
   "metadata": {},
   "outputs": [
    {
     "name": "stdout",
     "output_type": "stream",
     "text": [
      "70\n",
      "56\n"
     ]
    }
   ],
   "source": [
    "def bharatKumar(x=56):\n",
    "    print(x)\n",
    "bharatKumar(70)\n",
    "bharatKumar()"
   ]
  },
  {
   "cell_type": "code",
   "execution_count": null,
   "id": "49d27f42",
   "metadata": {},
   "outputs": [],
   "source": []
  }
 ],
 "metadata": {
  "kernelspec": {
   "display_name": "Python 3 (ipykernel)",
   "language": "python",
   "name": "python3"
  },
  "language_info": {
   "codemirror_mode": {
    "name": "ipython",
    "version": 3
   },
   "file_extension": ".py",
   "mimetype": "text/x-python",
   "name": "python",
   "nbconvert_exporter": "python",
   "pygments_lexer": "ipython3",
   "version": "3.9.12"
  }
 },
 "nbformat": 4,
 "nbformat_minor": 5
}

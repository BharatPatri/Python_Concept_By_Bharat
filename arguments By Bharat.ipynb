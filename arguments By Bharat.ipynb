{
 "cells": [
  {
   "cell_type": "code",
   "execution_count": 1,
   "id": "8f73c923",
   "metadata": {},
   "outputs": [
    {
     "name": "stdout",
     "output_type": "stream",
     "text": [
      "name:fanta color:orange capicity:1 hight:8\n"
     ]
    }
   ],
   "source": [
    "#keyword argument\n",
    "#we can sepicify argument name and value to gether while calling a function\n",
    "#we use chai braket{}\n",
    "def bottleDetails(name,color,capicity,hight):\n",
    "    print('name:{} color:{} capicity:{} hight:{}'.format(name,color,capicity,hight))\n",
    "bottleDetails('fanta','orange',1,8)\n",
    "#bottleDetails(name='fanta',color='orange',capacity=1,hight=8) we can assigne the keys so we can write randomly\n"
   ]
  },
  {
   "cell_type": "code",
   "execution_count": 13,
   "id": "4a8c3091",
   "metadata": {},
   "outputs": [
    {
     "name": "stdout",
     "output_type": "stream",
     "text": [
      "24\n"
     ]
    }
   ],
   "source": [
    "#variable name of argument\n",
    "def multiply(*bhar):\n",
    "    mult=1\n",
    "    for number in bhar:\n",
    "        mult=mult*number\n",
    "    return mult\n",
    "\n",
    "\n",
    "\n",
    "result=multiply(1,2,3,4)\n",
    "print(result)"
   ]
  },
  {
   "cell_type": "code",
   "execution_count": 15,
   "id": "e0dd363b",
   "metadata": {},
   "outputs": [
    {
     "name": "stdout",
     "output_type": "stream",
     "text": [
      "120\n"
     ]
    }
   ],
   "source": [
    "#variable name of argument\n",
    "def multiply(start,*bhar):\n",
    "    mult=start\n",
    "    for number in bhar:\n",
    "        mult=mult*number\n",
    "    return mult\n",
    "\n",
    "\n",
    "\n",
    "result=multiply(5,1,2,3,4)\n",
    "print(result)"
   ]
  },
  {
   "cell_type": "code",
   "execution_count": 2,
   "id": "3ccd4432",
   "metadata": {},
   "outputs": [
    {
     "name": "stdout",
     "output_type": "stream",
     "text": [
      "4\n"
     ]
    }
   ],
   "source": [
    "#variable name of argument\n",
    "\n",
    "def multiply(*bhar):\n",
    "    mult=4\n",
    "    \n",
    "    \n",
    "    \n",
    "    \n",
    "    \n",
    "    for number in bhar:\n",
    "        mult*number\n",
    "    return mult\n",
    "\n",
    "\n",
    "\n",
    "result=multiply(1,2,3,4)\n",
    "print(result)"
   ]
  },
  {
   "cell_type": "code",
   "execution_count": 6,
   "id": "d9517d4f",
   "metadata": {},
   "outputs": [
    {
     "name": "stdout",
     "output_type": "stream",
     "text": [
      "10 6 63\n"
     ]
    }
   ],
   "source": [
    "#passing *args ,**kwargs from caller\n",
    "def eatMe(apple,banana,orange):\n",
    "    print(apple,banana,orange)\n",
    "fruits=(10,6,63)\n",
    "eatMe(*fruits)"
   ]
  },
  {
   "cell_type": "code",
   "execution_count": null,
   "id": "38068558",
   "metadata": {},
   "outputs": [],
   "source": []
  },
  {
   "cell_type": "code",
   "execution_count": null,
   "id": "079abd19",
   "metadata": {},
   "outputs": [],
   "source": []
  },
  {
   "cell_type": "code",
   "execution_count": null,
   "id": "e906e8cb",
   "metadata": {},
   "outputs": [],
   "source": []
  }
 ],
 "metadata": {
  "kernelspec": {
   "display_name": "Python 3 (ipykernel)",
   "language": "python",
   "name": "python3"
  },
  "language_info": {
   "codemirror_mode": {
    "name": "ipython",
    "version": 3
   },
   "file_extension": ".py",
   "mimetype": "text/x-python",
   "name": "python",
   "nbconvert_exporter": "python",
   "pygments_lexer": "ipython3",
   "version": "3.9.12"
  }
 },
 "nbformat": 4,
 "nbformat_minor": 5
}

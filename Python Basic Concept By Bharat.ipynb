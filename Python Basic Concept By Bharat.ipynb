{
 "cells": [
  {
   "cell_type": "code",
   "execution_count": 10,
   "id": "1f759d26",
   "metadata": {},
   "outputs": [
    {
     "name": "stdout",
     "output_type": "stream",
     "text": [
      "enter your amount100\n",
      "-4900 thanks for using\n"
     ]
    }
   ],
   "source": [
    "cash=input('enter your amount')\n",
    "enterAmount=int(cash)\n",
    "totalCash=5000\n",
    "remainingAmount=enterAmount-totalCash\n",
    "print(remainingAmount,end=\" \")\n",
    "print(\"thanks for using\")"
   ]
  },
  {
   "cell_type": "code",
   "execution_count": 13,
   "id": "51e2f9a3",
   "metadata": {},
   "outputs": [
    {
     "name": "stdout",
     "output_type": "stream",
     "text": [
      "enter your amount and pin1100=3658\n",
      "-1342 thanks for using\n"
     ]
    }
   ],
   "source": [
    "#splitmethod\n",
    "pin,cash=input('enter your amount and pin').split('=')\n",
    "enterAmount=int(cash)\n",
    "totalCash=5000\n",
    "remainingAmount=enterAmount-totalCash\n",
    "print(remainingAmount,end=\" \")\n",
    "print(\"thanks for using\")"
   ]
  },
  {
   "cell_type": "code",
   "execution_count": 14,
   "id": "55ff07e0",
   "metadata": {},
   "outputs": [
    {
     "name": "stdout",
     "output_type": "stream",
     "text": [
      "Enter pin numberand amount7825/1000\n",
      "7825 1000\n"
     ]
    }
   ],
   "source": [
    "#we canuse the comma in print section\n",
    "pinNumber,amountEnter=input('Enter pin numberand amount').split('/')\n",
    "print(pinNumber,amountEnter)"
   ]
  },
  {
   "cell_type": "code",
   "execution_count": 19,
   "id": "028c0842",
   "metadata": {},
   "outputs": [
    {
     "name": "stdout",
     "output_type": "stream",
     "text": [
      "enter your amount and pin1000=8956\n",
      "your account balance is 4000,your entered amount is1000\n"
     ]
    }
   ],
   "source": [
    "#chapter 10 format() method to assigne placeholder to print\n",
    "cash,pin=input('enter your amount and pin').split('=')\n",
    "enterAmount=int(cash)\n",
    "totalCash=5000\n",
    "remainingAmount=totalCash-enterAmount\n",
    "#print(remainingAmount,end=\" \")\n",
    "#print(\"thanks for using\")\n",
    "print('your account balance is {},your entered amount is{}'.format(remainingAmount,enterAmount))"
   ]
  },
  {
   "cell_type": "code",
   "execution_count": 24,
   "id": "fbe111bb",
   "metadata": {},
   "outputs": [
    {
     "name": "stdout",
     "output_type": "stream",
     "text": [
      "addition 20\n",
      "substraction 0\n",
      "multiplication 100\n",
      "divition 1.0\n",
      "// 1\n",
      "% 0\n",
      "** 10000000000\n"
     ]
    }
   ],
   "source": [
    "#arthmatic oprator method\n",
    "a=10\n",
    "b=10\n",
    "print(\"addition\",a+b)\n",
    "print(\"substraction\",a-b)\n",
    "print(\"multiplication\",a*b)\n",
    "print(\"divition\",a/b)#cocient using decimal \n",
    "print(\"//\",a//b)#cocient no decimal value using\n",
    "print(\"%\",a%b)#remainder\n",
    "print(\"**\",a**b)#power"
   ]
  },
  {
   "cell_type": "code",
   "execution_count": 4,
   "id": "72600ff4",
   "metadata": {},
   "outputs": [
    {
     "name": "stdout",
     "output_type": "stream",
     "text": [
      "Enter Your Birth Year1999\n",
      "Age= 23\n"
     ]
    }
   ],
   "source": [
    "#find age off the person by asking birth year\n",
    "age=input('Enter Your Birth Year')\n",
    "enterAge=int(age)\n",
    "currentYear=2022\n",
    "findAge=currentYear-enterAge\n",
    "print(\"Age=\",findAge)"
   ]
  },
  {
   "cell_type": "code",
   "execution_count": 1,
   "id": "47d90749",
   "metadata": {},
   "outputs": [
    {
     "name": "stdout",
     "output_type": "stream",
     "text": [
      "persentage 63.83333333333333\n",
      "<class 'int'>\n",
      "<class 'float'>\n"
     ]
    }
   ],
   "source": [
    "#Numric (int,float,complex)\n",
    "marks=383\n",
    "persentage=(marks/600)*100\n",
    "print(\"persentage\",persentage)\n",
    "print(type(marks))\n",
    "print(type(persentage))"
   ]
  },
  {
   "cell_type": "code",
   "execution_count": 5,
   "id": "d50d38e6",
   "metadata": {},
   "outputs": [
    {
     "name": "stdout",
     "output_type": "stream",
     "text": [
      "<class 'complex'>\n",
      "8.0\n",
      "6.0\n",
      "(8-6j)\n",
      "(17+10j)\n"
     ]
    }
   ],
   "source": [
    "#complex if we call real number or imagner number then we simply write\" x.real\"\n",
    "#if wewant to change the + to - then simple we can write c\n",
    "x=8+6j\n",
    "y=9+4j\n",
    "print(type(x))\n",
    "print(x.real)\n",
    "print(x.imag)\n",
    "print(x.conjugate())\n",
    "print(x+y)\n"
   ]
  },
  {
   "cell_type": "code",
   "execution_count": 9,
   "id": "9078ff41",
   "metadata": {},
   "outputs": [
    {
     "name": "stdout",
     "output_type": "stream",
     "text": [
      "50\n",
      "hi all of you .if find this number\"1000\" in decimal\n"
     ]
    }
   ],
   "source": [
    "#string is three  types '',\"\",\"\"\" if we write multiple line in a string then we use '''\n",
    "#if we check the length of the stringthen we use print(len(veriable))\n",
    "#it will also count the space not onlly character \n",
    "\n",
    "statment1=\"hi this is nunmber . let's see what will be happen\"\n",
    "print(len(statment1))\n",
    "statment2=\"\"\"hi all of you .if find this number\"1000\" in decimal\"\"\"\n",
    "print(statment2)\n"
   ]
  },
  {
   "cell_type": "code",
   "execution_count": 6,
   "id": "9ef65aaa",
   "metadata": {},
   "outputs": [
    {
     "name": "stdout",
     "output_type": "stream",
     "text": [
      "string\n",
      "18\n",
      "b\n",
      "ba\n",
      "at\n",
      "irtap ramuk tarahb\n"
     ]
    }
   ],
   "source": [
    "#it will write in a square braket[]\n",
    "#string accessing the index\n",
    "#star end step\n",
    "#step is always by default set in 1\n",
    "print(\"string\")\n",
    "bharat=\"bharat kumar patri\"\n",
    "#       0123456789\n",
    "print(len(bharat))\n",
    "print(bharat[0])\n",
    "print(bharat[0:4:2])\n",
    "print(bharat[2:7:3])\n",
    "print(bharat[::-1])\n"
   ]
  },
  {
   "cell_type": "code",
   "execution_count": 7,
   "id": "2e494a08",
   "metadata": {},
   "outputs": [
    {
     "name": "stdout",
     "output_type": "stream",
     "text": [
      "bharat you are great because you saved a life \n",
      "bharat kumar patribharat kumar patribharat kumar patribharat kumar patri\n"
     ]
    }
   ],
   "source": [
    "#string oprations\n",
    "#+ is use marge two strings\n",
    "#*is use repeat the same string\n",
    "bharat=\"bharat you are great\"+\" because you saved a life \"\n",
    "bharat1=\"bharat kumar patri\"*4\n",
    "print(bharat)\n",
    "print(bharat1)"
   ]
  },
  {
   "cell_type": "code",
   "execution_count": 9,
   "id": "2e1852ea",
   "metadata": {},
   "outputs": [
    {
     "name": "stdout",
     "output_type": "stream",
     "text": [
      "True\n",
      "False\n"
     ]
    }
   ],
   "source": [
    "'''string membership test\n",
    "it is two types in and  not in\n",
    "'''\n",
    "bharat=\"bharat kumar patri\"\n",
    "print(\"kumar\" in bharat)\n",
    "print(\"kumar\" not in bharat)\n"
   ]
  },
  {
   "cell_type": "code",
   "execution_count": 1,
   "id": "2f3ee176",
   "metadata": {},
   "outputs": [
    {
     "name": "stdout",
     "output_type": "stream",
     "text": [
      "<class 'list'>\n",
      "[50, 45, 36, 44, 40]\n"
     ]
    }
   ],
   "source": [
    "#list\n",
    "#it can take int,string,tuple ets kin of data type\n",
    "#list is always write in a square braket \"[]\" ok\n",
    "marks=[35,45,36,44,40]\n",
    "print(type(marks))\n",
    "marks[0]=50\n",
    "print(marks)\n"
   ]
  },
  {
   "cell_type": "code",
   "execution_count": 12,
   "id": "c0725b00",
   "metadata": {},
   "outputs": [
    {
     "name": "stdout",
     "output_type": "stream",
     "text": [
      "['vhandan', 'kumar', 'mitu', 'kishor']\n",
      "friends count 4\n",
      "secend friend kumar\n",
      "third friend kishor\n"
     ]
    }
   ],
   "source": [
    "friends=[\"vhandan\",\"kumar\",\"mitu\",\"kishor\"]\n",
    "print(friends)\n",
    "print('friends count',len(friends))\n",
    "print('secend friend',friends[1])\n",
    "print('third friend',friends[3])\n"
   ]
  },
  {
   "cell_type": "code",
   "execution_count": 1,
   "id": "eb550574",
   "metadata": {},
   "outputs": [
    {
     "name": "stdout",
     "output_type": "stream",
     "text": [
      "['Bharat', 'Suresh', 'Vishnu', ['vhandan', 'kumar', 'mitu', 'kishor']]\n"
     ]
    }
   ],
   "source": [
    "#how to print one list data into another list\n",
    "riends=[\"vhandan\",\"kumar\",\"mitu\",\"kishor\"]\n",
    "extraFriends=[\"Bharat\",\"Suresh\",\"Vishnu\",friends]f\n",
    "print(extraFriends)"
   ]
  },
  {
   "cell_type": "code",
   "execution_count": 2,
   "id": "e407be0a",
   "metadata": {},
   "outputs": [
    {
     "name": "stdout",
     "output_type": "stream",
     "text": [
      "kumar\n"
     ]
    }
   ],
   "source": [
    "#nested list how to call\n",
    "friends=[\"vhandan\",\"kumar\",\"mitu\",\"kishor\"]\n",
    "extraFriends=[\"Bharat\",\"Suresh\",\"Vishnu\",friends]\n",
    "#i have to take the index number to access the another list so i have to take 3 \n",
    "#in this 3 list it having another list so we have to call a particular index\n",
    "print(extraFriends[3][1])"
   ]
  },
  {
   "cell_type": "code",
   "execution_count": 4,
   "id": "98a1a6a8",
   "metadata": {},
   "outputs": [
    {
     "name": "stdout",
     "output_type": "stream",
     "text": [
      "['vhandan', 'kumar', 'mitu', 'kishor', 'chinna']\n"
     ]
    }
   ],
   "source": [
    "#how to add a new data in to this list\n",
    "#We use .append()oprator\n",
    "friends=[\"vhandan\",\"kumar\",\"mitu\",\"kishor\"]\n",
    "friends.append(\"chinna\")\n",
    "print(friends)"
   ]
  },
  {
   "cell_type": "code",
   "execution_count": 5,
   "id": "6312d5e7",
   "metadata": {},
   "outputs": [
    {
     "name": "stdout",
     "output_type": "stream",
     "text": [
      "['vhandan', 'kumar', 'mitu', 'kishor', ['chinna', 'Rahul', 'Srinivas']]\n"
     ]
    }
   ],
   "source": [
    "# If we want to add multiple data in to the list\n",
    "# Here we .extend()oprator\n",
    "#we have to put a string on the list\n",
    "friends=[\"vhandan\",\"kumar\",\"mitu\",\"kishor\"]\n",
    "friends.append([\"chinna\",\"Rahul\",\"Srinivas\"])\n",
    "print(friends)\n"
   ]
  },
  {
   "cell_type": "code",
   "execution_count": 6,
   "id": "fece056f",
   "metadata": {},
   "outputs": [
    {
     "name": "stdout",
     "output_type": "stream",
     "text": [
      "['vhandan', 'kumar', 'chandan', 'mitu', 'kishor']\n"
     ]
    }
   ],
   "source": [
    "#How to add a specific postion\n",
    "# .insert (postion,value)\n",
    "friends=[\"vhandan\",\"kumar\",\"mitu\",\"kishor\"]\n",
    "friends.insert(2,\"chandan\")\n",
    "print(friends)\n"
   ]
  },
  {
   "cell_type": "code",
   "execution_count": 7,
   "id": "d337785d",
   "metadata": {},
   "outputs": [
    {
     "name": "stdout",
     "output_type": "stream",
     "text": [
      "['vhandan', 'puja', 'mithun', 'Bipin', 'kumar', 'mitu', 'kishor']\n"
     ]
    }
   ],
   "source": [
    "# IF we insert multiple value in a specific postion so we scliing method\n",
    "friends=[\"vhandan\",\"kumar\",\"mitu\",\"kishor\"]\n",
    "#assign star ting and ending point of the number of index\n",
    "friends[1:1]=[\"puja\",\"mithun\",\"Bipin\"]\n",
    "print(friends)"
   ]
  },
  {
   "cell_type": "code",
   "execution_count": 10,
   "id": "af0bb4fc",
   "metadata": {},
   "outputs": [
    {
     "name": "stdout",
     "output_type": "stream",
     "text": [
      "['kumar', 'mitu', 'kishor']\n",
      "['mitu', 'kishor']\n"
     ]
    }
   ],
   "source": [
    "# Delete /Remove list items\n",
    "friends=[\"vhandan\",\"kumar\",\"mitu\",\"kishor\"]\n",
    "del friends[0]\n",
    "print(friends)\n",
    "#if we remove multiple items in a list\n",
    "friends=[\"vhandan\",\"kumar\",\"mitu\",\"kishor\"]\n",
    "del friends[0:2]\n",
    "print(friends)\n",
    "\n",
    "\n",
    "\n",
    "\n",
    "\n"
   ]
  },
  {
   "cell_type": "code",
   "execution_count": 11,
   "id": "f5ea8fcd",
   "metadata": {},
   "outputs": [
    {
     "name": "stdout",
     "output_type": "stream",
     "text": [
      "['vhandan', 'mitu', 'kishor']\n"
     ]
    }
   ],
   "source": [
    "# if we have a long list so we can't calculate that specific index number so we use .remove(\"item\") operator\n",
    "\n",
    "friends=[\"vhandan\",\"kumar\",\"mitu\",\"kishor\"]\n",
    "friends.remove(\"kumar\")\n",
    "print(friends)"
   ]
  },
  {
   "cell_type": "code",
   "execution_count": null,
   "id": "7fb93578",
   "metadata": {},
   "outputs": [],
   "source": []
  }
 ],
 "metadata": {
  "kernelspec": {
   "display_name": "Python 3 (ipykernel)",
   "language": "python",
   "name": "python3"
  },
  "language_info": {
   "codemirror_mode": {
    "name": "ipython",
    "version": 3
   },
   "file_extension": ".py",
   "mimetype": "text/x-python",
   "name": "python",
   "nbconvert_exporter": "python",
   "pygments_lexer": "ipython3",
   "version": "3.9.12"
  }
 },
 "nbformat": 4,
 "nbformat_minor": 5
}
